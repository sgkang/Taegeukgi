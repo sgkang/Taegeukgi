{
 "metadata": {
  "name": "",
  "signature": "sha256:45d30b1a754b5e20a17cc36acc31446069156ea4eecfcc4ba73dbf8a57e12ac4"
 },
 "nbformat": 3,
 "nbformat_minor": 0,
 "worksheets": [
  {
   "cells": [
    {
     "cell_type": "heading",
     "level": 4,
     "metadata": {},
     "source": [
      "D-day: 15th Aug. 2014"
     ]
    },
    {
     "cell_type": "heading",
     "level": 2,
     "metadata": {},
     "source": [
      "Game plan"
     ]
    },
    {
     "cell_type": "markdown",
     "metadata": {},
     "source": [
      "15th of August is Korean independence day, which Korean was liberated from Japan. Korea had been a colony of Japan for 35 years (29 Aug. 1910-15th Aug. 1945). Shamely, although I am a Korean, We recognized that we do not know how to draw Korean national flag. Definitely, our identity is Korean and we are proud of this fact. In order to remind myself and surrounding me. We would like to write an small module, which generates Korean national flag, which is called \"Taegeukgi\". In addition, we are going to write an webpage, which explains the meaning of <em>Taegeukgi</em>. \n",
      "\n",
      "On top of that, in order to add some fun points, we are going to do an interesting performance. For this performance we do following thigngs:\n",
      "<ul>\n",
      "    <li>At 8:30 AM on Downtown Vacouver (the place can be changed), we get on the bus with <em>Taegeukgi</em></li>\n",
      "    <li>Then we give \"three cheers of the Korean Independence the public\", <em>loudly and confidently</em>.</li>\n",
      "    <li>We are going to take a video and put it on this blog. </li>\n",
      "    <li>Actually, my girl friend jenny is supposed to kiss me, but I am not sure whether she can make it or not. </li>\n",
      "<ul>"
     ]
    },
    {
     "cell_type": "heading",
     "level": 2,
     "metadata": {},
     "source": [
      "Specifications of <em>Taegeukgi</em>"
     ]
    },
    {
     "cell_type": "markdown",
     "metadata": {},
     "source": [
      "<img src=\"http://cfile7.uf.tistory.com/image/186765484E8A5E73164BBF\"></img>"
     ]
    },
    {
     "cell_type": "markdown",
     "metadata": {},
     "source": [
      "<ul>\n",
      "    <li>Note: this information is taken from: <a href=\"http://mpva.tistory.com/1400\"> this blog </a> </li>\n",
      "</ul>"
     ]
    },
    {
     "cell_type": "heading",
     "level": 2,
     "metadata": {},
     "source": [
      "Generating figure of <em>Taegeukgi</em>"
     ]
    },
    {
     "cell_type": "code",
     "collapsed": false,
     "input": [
      "import sys\n",
      "sys.path.append(\"../taegeukgi/\")\n",
      "import taegeukgi"
     ],
     "language": "python",
     "metadata": {},
     "outputs": [],
     "prompt_number": 1
    },
    {
     "cell_type": "code",
     "collapsed": false,
     "input": [
      "wdith = 100.\n",
      "genfig = taegeukgi.Taegeukgi(wdith)\n",
      "genfig.run()"
     ],
     "language": "python",
     "metadata": {},
     "outputs": [
      {
       "output_type": "stream",
       "stream": "stdout",
       "text": [
        "Congratuation for 2014 Korean Independence day, Gwangbokjeol Taegeukgi.png is generated with 200 dpi resolution.\n"
       ]
      }
     ],
     "prompt_number": 2
    },
    {
     "cell_type": "markdown",
     "metadata": {},
     "source": [
      "<img src = 'Taegeukgi.png'></img>"
     ]
    }
   ],
   "metadata": {}
  }
 ]
}