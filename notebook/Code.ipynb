{
 "metadata": {
  "name": "",
  "signature": "sha256:21d0d60ed1b455e0f159d00df217dc7143f047f04ff1dd156d012f3494eff76e"
 },
 "nbformat": 3,
 "nbformat_minor": 0,
 "worksheets": [
  {
   "cells": [
    {
     "cell_type": "code",
     "collapsed": false,
     "input": [
      "%pylab inline"
     ],
     "language": "python",
     "metadata": {},
     "outputs": [
      {
       "output_type": "stream",
       "stream": "stdout",
       "text": [
        "Populating the interactive namespace from numpy and matplotlib\n"
       ]
      }
     ],
     "prompt_number": 416
    },
    {
     "cell_type": "code",
     "collapsed": false,
     "input": [
      "import numpy as np"
     ],
     "language": "python",
     "metadata": {},
     "outputs": [],
     "prompt_number": 417
    },
    {
     "cell_type": "code",
     "collapsed": false,
     "input": [
      "def genbar(theta, xy, movement):\n",
      "    R = np.array([[np.cos(np.pi/180.*theta), -np.sin(np.pi/180*theta)], [np.sin(np.pi/180.*theta), np.cos(np.pi/180.*theta)]])\n",
      "    npts = xy.shape[0]\n",
      "    out = np.zeros((4,2))\n",
      "    for i in range(4):\n",
      "        out[i,:] = R.dot(xy[i,:])\n",
      "        \n",
      "    out[:,0] = out[:,0] + movement[0]\n",
      "    out[:,1] = out[:,1] + movement[1]\n",
      "    \n",
      "    return out"
     ],
     "language": "python",
     "metadata": {},
     "outputs": [],
     "prompt_number": 418
    },
    {
     "cell_type": "code",
     "collapsed": false,
     "input": [
      "from matplotlib.patches import Wedge\n",
      "def dual_half_circle(center, radius, angle=180/np.pi*np.arctan(-2./3), colors=('red','blue'), **kwargs):\n",
      "    \"\"\"\n",
      "        Add two half circles to the axes *ax* (or the current axes) with the \n",
      "        specified facecolors *colors* rotated at *angle* (in degrees).\n",
      "    \"\"\"\n",
      "    theta1, theta2 = angle, angle + 180\n",
      "    w1 = Wedge(center, radius, theta1, theta2, fc=colors[0], ec=colors[0], **kwargs)\n",
      "    w2 = Wedge(center, radius, theta2, theta1, fc=colors[1], ec=colors[1], **kwargs)\n",
      "    return [w1, w2]"
     ],
     "language": "python",
     "metadata": {},
     "outputs": [],
     "prompt_number": 419
    },
    {
     "cell_type": "code",
     "collapsed": false,
     "input": [
      "def symmove(xin, flag='x'):\n",
      "    \"\"\"\n",
      "        Symmetric movement function\n",
      "    \"\"\"\n",
      "    x = xin.copy()\n",
      "    if flag =='x':\n",
      "        x[:,0] = -x[:,0]\n",
      "    elif flag =='y':\n",
      "        x[:,1] = -x[:,1]\n",
      "    elif flag =='xy':\n",
      "        x = -x\n",
      "    else:\n",
      "        raise Exception(\"Not implemented !!\")    \n",
      "    return x"
     ],
     "language": "python",
     "metadata": {},
     "outputs": [],
     "prompt_number": 420
    },
    {
     "cell_type": "code",
     "collapsed": false,
     "input": [
      "width = 100.\n",
      "height = 2./3.*width\n",
      "radius = height*0.25\n",
      "radiusS = height*0.125\n",
      "costheta = 3./np.sqrt(13)\n",
      "sintheta = 2./np.sqrt(13)"
     ],
     "language": "python",
     "metadata": {},
     "outputs": [],
     "prompt_number": 422
    },
    {
     "cell_type": "code",
     "collapsed": false,
     "input": [
      "points_bar = np.array([[-radius/24, -radius/2], [radius/24, -radius/2], [radius/24, radius/2], [-radius/24, radius/2]])\n",
      "points_bar_tr1 = genbar(180/np.pi*np.arctan(2./3), \\\n",
      "                        points_bar, np.r_[(radius*1.5+1./12*radius)*costheta, (radius*1.5+1./12*radius)*sintheta])\n",
      "points_bar_tr2 = genbar(180/np.pi*np.arctan(2./3), \\\n",
      "                        points_bar, np.r_[(radius*1.5+3./12*radius)*costheta, (radius*1.5+3./12*radius)*sintheta])\n",
      "points_bar_tr3 = genbar(180/np.pi*np.arctan(2./3), \\\n",
      "                        points_bar, np.r_[(radius*1.5+5./12*radius)*costheta, (radius*1.5+5./12*radius)*sintheta])\n",
      "points_sbar = np.array([[-radius/20, -radius/24], [radius/20, -radius/24], [radius/20, radius/24], [-radius/20, radius/24]])\n",
      "points_sbar_tr1 = genbar(180/np.pi*np.arctan(2./3), \\\n",
      "                        points_sbar, np.r_[(radius*1.5+1./12*radius)*costheta, (radius*1.5+1./12*radius)*sintheta])\n",
      "points_sbar_tr2 = genbar(180/np.pi*np.arctan(2./3), \\\n",
      "                        points_sbar, np.r_[(radius*1.5+3./12*radius)*costheta, (radius*1.5+3./12*radius)*sintheta])\n",
      "points_sbar_tr3 = genbar(180/np.pi*np.arctan(2./3), \\\n",
      "                        points_sbar, np.r_[(radius*1.5+5./12*radius)*costheta, (radius*1.5+5./12*radius)*sintheta])"
     ],
     "language": "python",
     "metadata": {},
     "outputs": [],
     "prompt_number": 427
    },
    {
     "cell_type": "code",
     "collapsed": false,
     "input": [
      "fig = plt.figure(figsize = (4*3/2, 4))\n",
      "ax = fig.add_subplot(111)\n",
      "\n",
      "circle = dual_half_circle((0, 0), radius)\n",
      "circleL = plt.Circle((-0.5*radius*costheta, 0.5*radius*sintheta), radiusS, color='red')\n",
      "circleR = plt.Circle((0.5*radius*costheta, -0.5*radius*sintheta), radiusS, color='blue')\n",
      "bar1_1 = plt.Polygon(points_bar_tr1, color=\"black\")\n",
      "bar1_2 = plt.Polygon(points_bar_tr2, color=\"black\")\n",
      "bar1_3 = plt.Polygon(points_bar_tr3, color=\"black\")\n",
      "\n",
      "bar2_1 = plt.Polygon(symmove(points_bar_tr1,'x'), color=\"black\")\n",
      "bar2_2 = plt.Polygon(symmove(points_bar_tr2,'x'), color=\"black\")\n",
      "bar2_3 = plt.Polygon(symmove(points_bar_tr3,'x'), color=\"black\")\n",
      "\n",
      "bar3_1 = plt.Polygon(symmove(points_bar_tr1,'y'), color=\"black\")\n",
      "bar3_2 = plt.Polygon(symmove(points_bar_tr2,'y'), color=\"black\")\n",
      "bar3_3 = plt.Polygon(symmove(points_bar_tr3,'y'), color=\"black\")\n",
      "\n",
      "bar4_1 = plt.Polygon(symmove(points_bar_tr1,'xy'), color=\"black\")\n",
      "bar4_2 = plt.Polygon(symmove(points_bar_tr2,'xy'), color=\"black\")\n",
      "bar4_3 = plt.Polygon(symmove(points_bar_tr3,'xy'), color=\"black\")\n",
      "\n",
      "sbar1_1 = plt.Polygon(points_sbar_tr1, color=\"white\")\n",
      "sbar1_3 = plt.Polygon(points_sbar_tr3, color=\"white\")\n",
      "sbar3_1 = plt.Polygon(symmove(points_sbar_tr1,'y'), color=\"white\")\n",
      "sbar3_2 = plt.Polygon(symmove(points_sbar_tr2,'y'), color=\"white\")\n",
      "sbar3_3 = plt.Polygon(symmove(points_sbar_tr3,'y'), color=\"white\")\n",
      "sbar4_2 = plt.Polygon(symmove(points_sbar_tr2,'xy'), color=\"white\")\n",
      "\n",
      "ax.set_xlim(-0.5*width, 0.5*width)\n",
      "ax.set_ylim(-0.5*height,0.5*height)\n",
      "\n",
      "line = plt.Polygon([[-width*0.5, -height*0.5], [width*0.5, -height*0.5], [width*0.5, height*0.5], [-width*0.5, height*0.5]] \\\n",
      "                   ,fill=None, edgecolor = 'black')\n",
      "\n",
      "polygons = [line, circle[0],circle[1], circleL, circleR, bar1_1, bar1_2, bar1_3,\\\n",
      "            bar2_1, bar2_2, bar2_3, bar3_1, bar3_2, bar3_3, bar4_1, bar4_2, bar4_3,\\\n",
      "            sbar1_1, sbar1_3, sbar3_1, sbar3_2, sbar3_3, sbar4_2]\n",
      "\n",
      "for poly_temp in polygons:\n",
      "    ax.add_patch(poly_temp)\n",
      "ax.get_xaxis().set_visible(False)\n",
      "ax.get_yaxis().set_visible(False)\n",
      "fig.savefig('Taegeukgi.png', dpi = 200)"
     ],
     "language": "python",
     "metadata": {},
     "outputs": [
      {
       "metadata": {},
       "output_type": "display_data",
       "png": "[encoded data removed]",
       "text": [
        "<matplotlib.figure.Figure at 0x54a3a080>"
       ]
      }
     ],
     "prompt_number": 428
    },
    {
     "cell_type": "code",
     "collapsed": false,
     "input": [
      "points = np.array([[-10., -10], [10, -10], [10, 10], [-10, 10]])\n",
      "points_tr = genbar(60., points, np.r_[-4, 10.])"
     ],
     "language": "python",
     "metadata": {},
     "outputs": [],
     "prompt_number": 429
    },
    {
     "cell_type": "code",
     "collapsed": false,
     "input": [
      "plt.figure(figsize = (8,8))\n",
      "plt.plot(points[:,0],points[:,1], 'k.--', ms = 10)\n",
      "plt.plot(points_tr[:,0],points_tr[:,1], 'k.--', ms = 10)\n",
      "\n",
      "xlim(-20, 20)\n",
      "ylim(-20,20)\n",
      "grid(True)"
     ],
     "language": "python",
     "metadata": {},
     "outputs": [
      {
       "metadata": {},
       "output_type": "display_data",
       "png": "[encoded data removed]",
       "text": [
        "<matplotlib.figure.Figure at 0x528d3c88>"
       ]
      }
     ],
     "prompt_number": 430
    },
    {
     "cell_type": "code",
     "collapsed": false,
     "input": [
      "import scipy"
     ],
     "language": "python",
     "metadata": {},
     "outputs": [],
     "prompt_number": 433
    },
    {
     "cell_type": "code",
     "collapsed": false,
     "input": [
      "fig = plt.figure(figsize = (4*3/2, 4))\n",
      "ax = fig.add_subplot(111)\n",
      "\n",
      "circle = dual_half_circle((0, 0), radius)\n",
      "circleL = plt.Circle((-0.5*radius*costheta, 0.5*radius*sintheta), radiusS, color='red')\n",
      "circleR = plt.Circle((0.5*radius*costheta, -0.5*radius*sintheta), radiusS, color='blue')\n",
      "bar1_1 = plt.Polygon(points_bar_tr1, color=\"black\")\n",
      "bar1_2 = plt.Polygon(points_bar_tr2, color=\"black\")\n",
      "bar1_3 = plt.Polygon(points_bar_tr3, color=\"black\")\n",
      "\n",
      "bar2_1 = plt.Polygon(symmove(points_bar_tr1,'x'), color=\"black\")\n",
      "bar2_2 = plt.Polygon(symmove(points_bar_tr2,'x'), color=\"black\")\n",
      "bar2_3 = plt.Polygon(symmove(points_bar_tr3,'x'), color=\"black\")\n",
      "\n",
      "bar3_1 = plt.Polygon(symmove(points_bar_tr1,'y'), color=\"black\")\n",
      "bar3_2 = plt.Polygon(symmove(points_bar_tr2,'y'), color=\"black\")\n",
      "bar3_3 = plt.Polygon(symmove(points_bar_tr3,'y'), color=\"black\")\n",
      "\n",
      "bar4_1 = plt.Polygon(symmove(points_bar_tr1,'xy'), color=\"black\")\n",
      "bar4_2 = plt.Polygon(symmove(points_bar_tr2,'xy'), color=\"black\")\n",
      "bar4_3 = plt.Polygon(symmove(points_bar_tr3,'xy'), color=\"black\")\n",
      "\n",
      "sbar1_1 = plt.Polygon(points_sbar_tr1, color=\"white\")\n",
      "sbar1_3 = plt.Polygon(points_sbar_tr3, color=\"white\")\n",
      "sbar3_1 = plt.Polygon(symmove(points_sbar_tr1,'y'), color=\"white\")\n",
      "sbar3_2 = plt.Polygon(symmove(points_sbar_tr2,'y'), color=\"white\")\n",
      "sbar3_3 = plt.Polygon(symmove(points_sbar_tr3,'y'), color=\"white\")\n",
      "sbar4_2 = plt.Polygon(symmove(points_sbar_tr2,'xy'), color=\"white\")\n",
      "\n",
      "ax.set_xlim(-0.5*width, 0.5*width)\n",
      "ax.set_ylim(-0.5*height,0.5*height)\n",
      "\n",
      "line = plt.Polygon([[-width*0.5, -height*0.5], [width*0.5, -height*0.5], [width*0.5, height*0.5], [-width*0.5, height*0.5]] \\\n",
      "                   ,fill=None, edgecolor = 'black')\n",
      "\n",
      "polygons = [line, circle[0],circle[1], circleL, circleR, bar1_1, bar1_2, bar1_3,\\\n",
      "            bar2_1, bar2_2, bar2_3, bar3_1, bar3_2, bar3_3, bar4_1, bar4_2, bar4_3,\\\n",
      "            sbar1_1, sbar1_3, sbar3_1, sbar3_2, sbar3_3, sbar4_2]\n",
      "\n",
      "for poly_temp in polygons:\n",
      "    ax.add_patch(poly_temp)\n",
      "ax.get_xaxis().set_visible(False)\n",
      "ax.get_yaxis().set_visible(False)\n",
      "fig.savefig('Taegeukgi.png', dpi = 200)"
     ],
     "language": "python",
     "metadata": {},
     "outputs": [
      {
       "metadata": {},
       "output_type": "display_data",
       "png": "[encoded data removed]",
       "text": [
        "<matplotlib.figure.Figure at 0x54c9f320>"
       ]
      }
     ],
     "prompt_number": 434
    }
   ],
   "metadata": {}
  }
 ]
}